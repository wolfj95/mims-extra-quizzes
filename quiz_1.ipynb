{
 "cells": [
  {
   "cell_type": "markdown",
   "id": "064ac7ec",
   "metadata": {},
   "source": [
    "# Extra Quiz 1"
   ]
  },
  {
   "cell_type": "markdown",
   "id": "32b8bc19",
   "metadata": {},
   "source": [
    "## Error reading\n",
    "overwriting turtle functions"
   ]
  },
  {
   "cell_type": "code",
   "execution_count": 4,
   "id": "83f2abbb",
   "metadata": {},
   "outputs": [],
   "source": [
    "from turtle import Screen, clear, forward, backward, circle, penup, pendown\n",
    "from helpers import setup, no_delay\n",
    "import time"
   ]
  },
  {
   "cell_type": "code",
   "execution_count": 5,
   "id": "324407ac",
   "metadata": {},
   "outputs": [],
   "source": [
    "def animate_right(num_frames, distance, sleeptime, screen):\n",
    "    for i in range(num_frames):\n",
    "        forward(int(distance/num_frames))\n",
    "        circle(40)\n",
    "        screen.update()\n",
    "        time.sleep(sleeptime)\n",
    "        clear()\n",
    "    \n",
    "def animate_left(num_frames, distance, sleeptime, screen):\n",
    "    for i in range(num_frames):\n",
    "        backward(int(distance/num_frames))\n",
    "        circle(40)\n",
    "        screen.update()\n",
    "        time.sleep(sleeptime)\n",
    "        clear()\n",
    "\n",
    "def draw_animation(num_frames, distance, sleeptime, screen):\n",
    "    animate_right(int(num_frames/2), distance, sleeptime, screen)\n",
    "    animate_left(int(num_frames/2), distance, sleeptime, screen)"
   ]
  },
  {
   "cell_type": "code",
   "execution_count": 6,
   "id": "b0ba0cc7",
   "metadata": {},
   "outputs": [],
   "source": [
    "DISTANCE = 200 #the side length of the triangle\n",
    "SLEEPTIME = 0.05 #the time in between each frame\n",
    "NUMFRAMES = 100 #the number of frames in the animation\n",
    "NUMREPEATS = 4 #the number of times the animation repeats\n",
    "SCREENWIDTH = 800 #the height and width of the screen\n",
    "SCREENHEIGHT = 800 #the height and width of the screen\n",
    "START_X = 0 # the starting xcoordinate of the drawing\n",
    "START_Y = 0 # the starting ycoordinate of the drawing\n",
    "\n",
    "screen = Screen()\n",
    "screen.setup(SCREENWIDTH, SCREENHEIGHT)\n",
    "for i in range(NUMREPEATS):\n",
    "    setup(START_X, START_Y)\n",
    "    with no_delay():\n",
    "        draw_animation(NUMFRAMES, DISTANCE, SLEEPTIME, screen)"
   ]
  },
  {
   "cell_type": "markdown",
   "id": "3f280c15",
   "metadata": {},
   "source": [
    "## Debugging"
   ]
  },
  {
   "cell_type": "code",
   "execution_count": null,
   "id": "674ea811",
   "metadata": {},
   "outputs": [],
   "source": []
  }
 ],
 "metadata": {
  "kernelspec": {
   "display_name": "Python 3 (ipykernel)",
   "language": "python",
   "name": "python3"
  },
  "language_info": {
   "codemirror_mode": {
    "name": "ipython",
    "version": 3
   },
   "file_extension": ".py",
   "mimetype": "text/x-python",
   "name": "python",
   "nbconvert_exporter": "python",
   "pygments_lexer": "ipython3",
   "version": "3.9.1"
  },
  "toc": {
   "base_numbering": 1,
   "nav_menu": {},
   "number_sections": true,
   "sideBar": true,
   "skip_h1_title": false,
   "title_cell": "Table of Contents",
   "title_sidebar": "Contents",
   "toc_cell": false,
   "toc_position": {},
   "toc_section_display": true,
   "toc_window_display": false
  },
  "varInspector": {
   "cols": {
    "lenName": 16,
    "lenType": 16,
    "lenVar": 40
   },
   "kernels_config": {
    "python": {
     "delete_cmd_postfix": "",
     "delete_cmd_prefix": "del ",
     "library": "var_list.py",
     "varRefreshCmd": "print(var_dic_list())"
    },
    "r": {
     "delete_cmd_postfix": ") ",
     "delete_cmd_prefix": "rm(",
     "library": "var_list.r",
     "varRefreshCmd": "cat(var_dic_list()) "
    }
   },
   "types_to_exclude": [
    "module",
    "function",
    "builtin_function_or_method",
    "instance",
    "_Feature"
   ],
   "window_display": false
  }
 },
 "nbformat": 4,
 "nbformat_minor": 5
}
