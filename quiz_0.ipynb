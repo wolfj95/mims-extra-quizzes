{
 "cells": [
  {
   "cell_type": "markdown",
   "id": "5b161c6f",
   "metadata": {},
   "source": [
    "# Quiz"
   ]
  },
  {
   "cell_type": "markdown",
   "id": "81c5b1cd",
   "metadata": {},
   "source": [
    "## Error fixing"
   ]
  },
  {
   "cell_type": "code",
   "execution_count": 1,
   "id": "f272ba09",
   "metadata": {},
   "outputs": [],
   "source": [
    "from turtle import goto, setheading, forward, right, penup, left, pendown, reset, speed"
   ]
  },
  {
   "cell_type": "code",
   "execution_count": 2,
   "id": "51b8c270",
   "metadata": {},
   "outputs": [],
   "source": [
    "def setup(x, y):\n",
    "    penup()\n",
    "    goto(x, y)\n",
    "    pendown()\n",
    "    setheading(0)"
   ]
  },
  {
   "cell_type": "code",
   "execution_count": 4,
   "id": "d7175e2d",
   "metadata": {},
   "outputs": [
    {
     "name": "stderr",
     "output_type": "stream",
     "text": [
      "2021-08-12 12:08:42.238 Python[94112:13292206] ApplePersistenceIgnoreState: Existing state will not be touched. New state will be written to /var/folders/gw/zzdm1k1s4czgdmpvkm7g_0q80000gn/T/org.python.python.savedState\n"
     ]
    }
   ],
   "source": [
    "def square(side_length):\n",
    "    for i in range(4):\n",
    "        forward(side_length)\n",
    "        right(90)\n",
    "\n",
    "def draw_grid(square_size,gap):\n",
    "    for i in range(4):\n",
    "        setup(0, 0)\n",
    "        penup()\n",
    "        right(90)\n",
    "        forward((i*(square_size + gap))) #missing parenthesis here\n",
    "        left(90)\n",
    "        pendown()\n",
    "        for j in range(4):\n",
    "            square(square_size)\n",
    "            penup()\n",
    "            forward(square_size + gap)\n",
    "            pendown()\n",
    "\n",
    "speed(0)\n",
    "reset()\n",
    "draw_grid(20, 10)"
   ]
  },
  {
   "cell_type": "markdown",
   "id": "a204b23b",
   "metadata": {},
   "source": [
    "## Debugging"
   ]
  },
  {
   "cell_type": "code",
   "execution_count": 9,
   "id": "6718d12d",
   "metadata": {},
   "outputs": [],
   "source": [
    "from turtle import Screen, clear, setheading, forward, backward, right, reset\n",
    "from helpers import update_position, setup, no_delay\n",
    "import time"
   ]
  },
  {
   "cell_type": "code",
   "execution_count": 10,
   "id": "22dbe611",
   "metadata": {},
   "outputs": [],
   "source": [
    "def spikey_ball():\n",
    "    for i in range(360): # Code changed here to make 360 loops\n",
    "        forward(100)\n",
    "        backward(100)\n",
    "        right(1)         # Code changed here to turn 360 times\n",
    "\n",
    "def draw_animation(num_frames, num_curves, sleeptime, screen):\n",
    "    for i in range(num_frames):\n",
    "        right(1)\n",
    "        spikey_ball()\n",
    "        screen.update()\n",
    "        time.sleep(sleeptime)\n",
    "        clear()"
   ]
  },
  {
   "cell_type": "code",
   "execution_count": 11,
   "id": "ef50fd7d",
   "metadata": {},
   "outputs": [],
   "source": [
    "NUMCURVES = 10 #the side length of the triangle\n",
    "SLEEPTIME = 0.05 #the time in between each frame\n",
    "NUMFRAMES = 100 #the number of frames in the animation\n",
    "NUMREPEATS = 4 #the number of times the animation repeats\n",
    "SCREENWIDTH = 800 #the height and width of the screen\n",
    "SCREENHEIGHT = 800 #the height and width of the screen\n",
    "START_X = 0 # the starting xcoordinate of the drawing\n",
    "START_Y = 0 # the starting ycoordinate of the drawing\n",
    "\n",
    "reset()\n",
    "screen = Screen()\n",
    "screen.setup(SCREENWIDTH, SCREENHEIGHT)\n",
    "for i in range(NUMREPEATS):\n",
    "        with no_delay():\n",
    "            setup(START_X, START_Y)\n",
    "            draw_animation(NUMFRAMES, NUMCURVES, SLEEPTIME, screen)"
   ]
  },
  {
   "cell_type": "code",
   "execution_count": null,
   "id": "39afbe1f",
   "metadata": {},
   "outputs": [],
   "source": []
  }
 ],
 "metadata": {
  "kernelspec": {
   "display_name": "Python 3 (ipykernel)",
   "language": "python",
   "name": "python3"
  },
  "language_info": {
   "codemirror_mode": {
    "name": "ipython",
    "version": 3
   },
   "file_extension": ".py",
   "mimetype": "text/x-python",
   "name": "python",
   "nbconvert_exporter": "python",
   "pygments_lexer": "ipython3",
   "version": "3.9.1"
  },
  "toc": {
   "base_numbering": 1,
   "nav_menu": {},
   "number_sections": true,
   "sideBar": true,
   "skip_h1_title": false,
   "title_cell": "Table of Contents",
   "title_sidebar": "Contents",
   "toc_cell": false,
   "toc_position": {},
   "toc_section_display": true,
   "toc_window_display": false
  },
  "varInspector": {
   "cols": {
    "lenName": 16,
    "lenType": 16,
    "lenVar": 40
   },
   "kernels_config": {
    "python": {
     "delete_cmd_postfix": "",
     "delete_cmd_prefix": "del ",
     "library": "var_list.py",
     "varRefreshCmd": "print(var_dic_list())"
    },
    "r": {
     "delete_cmd_postfix": ") ",
     "delete_cmd_prefix": "rm(",
     "library": "var_list.r",
     "varRefreshCmd": "cat(var_dic_list()) "
    }
   },
   "types_to_exclude": [
    "module",
    "function",
    "builtin_function_or_method",
    "instance",
    "_Feature"
   ],
   "window_display": false
  }
 },
 "nbformat": 4,
 "nbformat_minor": 5
}
